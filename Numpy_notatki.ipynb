{
 "cells": [
  {
   "cell_type": "code",
   "execution_count": 53,
   "id": "207b6207-2bae-42fb-a8fc-599654bda9ae",
   "metadata": {},
   "outputs": [],
   "source": [
    "import numpy as np\n",
    "import pandas as pd"
   ]
  },
  {
   "cell_type": "markdown",
   "id": "949635c7-04a1-460f-88cc-ea2f486f16f7",
   "metadata": {},
   "source": [
    "# WAŻNE INFORMACJE NA START\n",
    "- w 'czystym' pythonie używa się terminu 'lista', ale w NumPy mówi się o 'macierzach',\n",
    "- w kontekście NumPy, mówimy też o 'elementach' macierzy, a nie 'polach', czy jakoś inaczej,"
   ]
  },
  {
   "cell_type": "markdown",
   "id": "e0db0aac-f5ae-49d2-bbfe-dbc25d87349a",
   "metadata": {},
   "source": [
    "# Podstawowe informacje\n",
    "- rysunek wyżej posiada błąd dla pierwszej macierzy, poprawnie powinno być:  \n",
    "  a1 = np.array([[1, 2, 3]]) -> podwójny nawias kwadratowy "
   ]
  },
  {
   "cell_type": "markdown",
   "id": "f21e90ad-7dbd-4b25-b204-6c3f37d2d302",
   "metadata": {},
   "source": [
    "![](numpy-data-types.png)"
   ]
  },
  {
   "cell_type": "markdown",
   "id": "ede15432-620e-42ce-8d65-abea6173f1b4",
   "metadata": {},
   "source": [
    "- głównym typem danych w NumPy jest 'ndarray' = 'n-dimencional array',\n",
    "- wszystko tak naprawdę rozchodzi się o wymiary macierzy,\n",
    "- w NumPy nie istnieje ogranieczenie na liczbę wymiarów z ilu może składać się macierz,\n",
    "- kształt macierzy do trzeciego wymiaru: (liczba macierzy, wiersze, kolumny),\n"
   ]
  },
  {
   "cell_type": "code",
   "execution_count": 54,
   "id": "576d616a-5666-42f3-90fe-4de23f4d463c",
   "metadata": {},
   "outputs": [],
   "source": [
    "a1 = np.array([[1, 2, 3]]) # podwójny nawias kwadratowy\n",
    "a2 = np.array([[1, 2, 3.3], \n",
    "              [4, 5, 6.5]])\n",
    "a3 = np.array([[[1, 2, 3],\n",
    "                [4, 5, 6],\n",
    "                [7, 8, 9]],\n",
    "               \n",
    "               [[10, 11, 12], \n",
    "                [13, 14, 15], \n",
    "                [16, 17, 18, ]]])"
   ]
  },
  {
   "cell_type": "markdown",
   "id": "c9dbe364-139a-48ee-8968-c39681a71387",
   "metadata": {},
   "source": [
    "## Konkretne wymiary"
   ]
  },
  {
   "cell_type": "code",
   "execution_count": 55,
   "id": "797714c8-7b5d-4069-a12c-0346f2343aa8",
   "metadata": {},
   "outputs": [
    {
     "data": {
      "text/plain": [
       "((1, 3), (2, 3), (2, 3, 3))"
      ]
     },
     "execution_count": 55,
     "metadata": {},
     "output_type": "execute_result"
    }
   ],
   "source": [
    "a1.shape, a2.shape, a3.shape"
   ]
  },
  {
   "cell_type": "markdown",
   "id": "ab443746-89c7-4717-bce7-3b4ab9310e4e",
   "metadata": {},
   "source": [
    "## Liczba wymiarów (n - dimension)"
   ]
  },
  {
   "cell_type": "code",
   "execution_count": 56,
   "id": "ae60c565-b3de-4c4e-bb6a-cfc33fe40f65",
   "metadata": {},
   "outputs": [
    {
     "data": {
      "text/plain": [
       "(2, 2, 3)"
      ]
     },
     "execution_count": 56,
     "metadata": {},
     "output_type": "execute_result"
    }
   ],
   "source": [
    "a1.ndim, a2.ndim, a3.ndim "
   ]
  },
  {
   "cell_type": "markdown",
   "id": "9de30c64-ad18-400f-b239-ae46ff9cab73",
   "metadata": {},
   "source": [
    "## Typy przechowywanych danych"
   ]
  },
  {
   "cell_type": "code",
   "execution_count": 57,
   "id": "c63bfa1b-358a-4fcc-b215-22ac7cd71167",
   "metadata": {},
   "outputs": [
    {
     "data": {
      "text/plain": [
       "(dtype('int64'), dtype('float64'), dtype('int64'))"
      ]
     },
     "execution_count": 57,
     "metadata": {},
     "output_type": "execute_result"
    }
   ],
   "source": [
    "a1.dtype, a2.dtype, a3.dtype"
   ]
  },
  {
   "cell_type": "markdown",
   "id": "2c3d0d67-188d-4be3-bf44-468adf6385a4",
   "metadata": {},
   "source": [
    "## Liczba elementów w tablicy"
   ]
  },
  {
   "cell_type": "code",
   "execution_count": 58,
   "id": "80ccbcc3-1eda-4470-b283-405e9ee2946c",
   "metadata": {},
   "outputs": [
    {
     "data": {
      "text/plain": [
       "(3, 6, 18)"
      ]
     },
     "execution_count": 58,
     "metadata": {},
     "output_type": "execute_result"
    }
   ],
   "source": [
    "a1.size, a2.size, a3.size"
   ]
  },
  {
   "cell_type": "markdown",
   "id": "f2336f4d-7bca-4798-9d88-9266742bb166",
   "metadata": {},
   "source": [
    "# WEKTOR jednowymiarowy (1-D) VS MACIERZ składająca się z jednego wiersza (2-D)\n",
    "- zarówno jedno, jak i drugie z punktu widzenia matematyki może być nazywane wektorem, ale NumPy wyraźnie je rozróżnia,\n",
    "- wektor jednowymiarowy (1-D) można zamienić na macierz składającą się z jednego wiersza (2-D) za pomocą funkcji 'reshape()',\n",
    "- dla własnego bezpieczeństa chyba najlepiej jest zawsze korzystać z macierzy składającej się z jednego wiersza (2-D)  "
   ]
  },
  {
   "cell_type": "markdown",
   "id": "708f2b34-472f-422d-ad5e-693701b4ccfd",
   "metadata": {},
   "source": [
    "## Wektor jednowymiarowy (1-D)\n",
    "- jest to ciąg liczb bez wyraźnej struktury (mimo że wygląda jak struktura),\n",
    "- można na nim wykonywać szybkie operacje arytmetyczne takiej jak np. dodawanie, mnożenie itd. oraz wykorzystywać wbudowane funkcje agregujące, listing,\n",
    "- NIE MOŻNA wykonywać na nim pełnoprawnych działań macierzowych, takich jak np. mnożenie, transpozycja, itd."
   ]
  },
  {
   "cell_type": "code",
   "execution_count": 59,
   "id": "4137e827-54dc-4b07-9376-70674162e92c",
   "metadata": {},
   "outputs": [
    {
     "data": {
      "text/plain": [
       "(3,)"
      ]
     },
     "execution_count": 59,
     "metadata": {},
     "output_type": "execute_result"
    }
   ],
   "source": [
    "vector_1d = np.array([1, 2, 3])\n",
    "vector_1d.shape # (3,)"
   ]
  },
  {
   "cell_type": "markdown",
   "id": "20557870-882c-485f-8c20-06fbca784d16",
   "metadata": {},
   "source": [
    "## Macierz składająca się z jednego wiersza (2-D)\n",
    "- struktura pełnoprawnej macierzy,\n",
    "- można na niej wykonywać wszystkie operacje macierzowe, taki jak np. mnożenie, transpozycja itd."
   ]
  },
  {
   "cell_type": "code",
   "execution_count": 60,
   "id": "70440078-79e3-4864-83fc-685e7db66396",
   "metadata": {},
   "outputs": [
    {
     "data": {
      "text/plain": [
       "(1, 3)"
      ]
     },
     "execution_count": 60,
     "metadata": {},
     "output_type": "execute_result"
    }
   ],
   "source": [
    "vector_2 = np.array([[1, 2, 3]]) # podwójny nawias kwadratowy [[]]\n",
    "vector_2.shape # (1, 3)"
   ]
  },
  {
   "cell_type": "markdown",
   "id": "e6790660-b050-4add-a897-4aeedcb29bf0",
   "metadata": {},
   "source": [
    "# Tworzenie macierzy w NumPy\n",
    "- macierze wypełnione jedynkami lub zerami tworzy się, aby uzyskać macierze o konkretnych rozmiarach, które w przyszłości zostaną nadpisane przez inne dane,  "
   ]
  },
  {
   "cell_type": "markdown",
   "id": "4461f29b-29d7-4520-a76b-c47be22176e9",
   "metadata": {},
   "source": [
    "### Macierz podstawowa"
   ]
  },
  {
   "cell_type": "code",
   "execution_count": 61,
   "id": "c9d28341-1144-4f2d-883e-7be520de1b9c",
   "metadata": {},
   "outputs": [
    {
     "data": {
      "text/plain": [
       "array([1, 2, 3])"
      ]
     },
     "execution_count": 61,
     "metadata": {},
     "output_type": "execute_result"
    }
   ],
   "source": [
    "sample_array = np.array([1, 2, 3])\n",
    "sample_array"
   ]
  },
  {
   "cell_type": "markdown",
   "id": "132319cc-fe0d-42d1-8deb-5ef13d55fc4f",
   "metadata": {},
   "source": [
    "### Macierz wypełniona jedynkami"
   ]
  },
  {
   "cell_type": "code",
   "execution_count": 62,
   "id": "4e86c9cf-04d9-4b52-a455-10060e3d80dd",
   "metadata": {},
   "outputs": [
    {
     "data": {
      "text/plain": [
       "array([[1., 1., 1.],\n",
       "       [1., 1., 1.]])"
      ]
     },
     "execution_count": 62,
     "metadata": {},
     "output_type": "execute_result"
    }
   ],
   "source": [
    "ones = np.ones((2, 3))\n",
    "ones"
   ]
  },
  {
   "cell_type": "markdown",
   "id": "5d697355-6c81-42f4-b1cd-e9d86baa89e2",
   "metadata": {},
   "source": [
    "### Macierz wypełniona zerami"
   ]
  },
  {
   "cell_type": "code",
   "execution_count": 63,
   "id": "9d60ebec-9f47-47b3-a093-d9bc7fc6d289",
   "metadata": {},
   "outputs": [
    {
     "data": {
      "text/plain": [
       "array([[0., 0., 0.],\n",
       "       [0., 0., 0.]])"
      ]
     },
     "execution_count": 63,
     "metadata": {},
     "output_type": "execute_result"
    }
   ],
   "source": [
    "zeros = np.zeros((2, 3))\n",
    "zeros"
   ]
  },
  {
   "cell_type": "markdown",
   "id": "199ea992-e14c-41fa-bb73-a1ff1d60dd53",
   "metadata": {},
   "source": [
    "### Macierz (start, stop, step)"
   ]
  },
  {
   "cell_type": "code",
   "execution_count": 64,
   "id": "993de182-eac7-49fe-b5f7-fa4e13b870e0",
   "metadata": {},
   "outputs": [
    {
     "data": {
      "text/plain": [
       "array([2, 4, 6, 8])"
      ]
     },
     "execution_count": 64,
     "metadata": {},
     "output_type": "execute_result"
    }
   ],
   "source": [
    "range_array = np.arange(2, 10, 2)\n",
    "range_array"
   ]
  },
  {
   "cell_type": "markdown",
   "id": "222c6007-7ef7-4a66-868e-17d810404ac2",
   "metadata": {},
   "source": [
    "### Macierz wypełniona randomowymi wartościami"
   ]
  },
  {
   "cell_type": "code",
   "execution_count": 65,
   "id": "b908b6d9-445b-4b95-953f-332c4a68c546",
   "metadata": {},
   "outputs": [
    {
     "data": {
      "text/plain": [
       "array([[7, 8, 8, 9, 2],\n",
       "       [6, 9, 5, 4, 1]], dtype=int32)"
      ]
     },
     "execution_count": 65,
     "metadata": {},
     "output_type": "execute_result"
    }
   ],
   "source": [
    "random_array = np.random.randint(1, 10, size=(2, 5))\n",
    "random_array"
   ]
  },
  {
   "cell_type": "markdown",
   "id": "8fe06244-0323-482e-9fdb-e60d8bf3793d",
   "metadata": {},
   "source": [
    "### Macierz wypełniona randomowymi wartościami z przedziału <0, 1)"
   ]
  },
  {
   "cell_type": "code",
   "execution_count": 66,
   "id": "b4452072-dedd-4414-8f11-179309d47761",
   "metadata": {},
   "outputs": [
    {
     "data": {
      "text/plain": [
       "array([[0.83261985, 0.77815675, 0.87001215],\n",
       "       [0.97861834, 0.79915856, 0.46147936],\n",
       "       [0.78052918, 0.11827443, 0.63992102],\n",
       "       [0.14335329, 0.94466892, 0.52184832],\n",
       "       [0.41466194, 0.26455561, 0.77423369]])"
      ]
     },
     "execution_count": 66,
     "metadata": {},
     "output_type": "execute_result"
    }
   ],
   "source": [
    "random_array_2 = np.random.random(size=(5, 3))\n",
    "random_array_2"
   ]
  },
  {
   "cell_type": "markdown",
   "id": "237dae5b-48e7-4058-999b-7a9207af35ba",
   "metadata": {},
   "source": [
    "### DataFrame utworzony z tablicy NumPy"
   ]
  },
  {
   "cell_type": "code",
   "execution_count": 67,
   "id": "51461619-73ec-4d0b-9270-7a90acd8cd3e",
   "metadata": {},
   "outputs": [
    {
     "data": {
      "text/html": [
       "<div>\n",
       "<style scoped>\n",
       "    .dataframe tbody tr th:only-of-type {\n",
       "        vertical-align: middle;\n",
       "    }\n",
       "\n",
       "    .dataframe tbody tr th {\n",
       "        vertical-align: top;\n",
       "    }\n",
       "\n",
       "    .dataframe thead th {\n",
       "        text-align: right;\n",
       "    }\n",
       "</style>\n",
       "<table border=\"1\" class=\"dataframe\">\n",
       "  <thead>\n",
       "    <tr style=\"text-align: right;\">\n",
       "      <th></th>\n",
       "      <th>0</th>\n",
       "      <th>1</th>\n",
       "      <th>2</th>\n",
       "    </tr>\n",
       "  </thead>\n",
       "  <tbody>\n",
       "    <tr>\n",
       "      <th>0</th>\n",
       "      <td>1.0</td>\n",
       "      <td>2.0</td>\n",
       "      <td>3.3</td>\n",
       "    </tr>\n",
       "    <tr>\n",
       "      <th>1</th>\n",
       "      <td>4.0</td>\n",
       "      <td>5.0</td>\n",
       "      <td>6.5</td>\n",
       "    </tr>\n",
       "  </tbody>\n",
       "</table>\n",
       "</div>"
      ],
      "text/plain": [
       "     0    1    2\n",
       "0  1.0  2.0  3.3\n",
       "1  4.0  5.0  6.5"
      ]
     },
     "execution_count": 67,
     "metadata": {},
     "output_type": "execute_result"
    }
   ],
   "source": [
    "df = pd.DataFrame(a2)\n",
    "df"
   ]
  },
  {
   "cell_type": "markdown",
   "id": "f30d7da9-e085-4af8-950c-9033885e9505",
   "metadata": {},
   "source": [
    "# Dostęp do elementów macierzy\n",
    "- do elementów macierzy można dostaje się poprzez zwykłe odwołanie, tak jak w przypadku 'czystego' pythona, "
   ]
  },
  {
   "cell_type": "code",
   "execution_count": 68,
   "id": "562ee87e-ba58-43ed-83c9-146cacf0be40",
   "metadata": {},
   "outputs": [
    {
     "data": {
      "text/plain": [
       "array([[[ 1,  2,  3],\n",
       "        [ 4,  5,  6],\n",
       "        [ 7,  8,  9]],\n",
       "\n",
       "       [[10, 11, 12],\n",
       "        [13, 14, 15],\n",
       "        [16, 17, 18]]])"
      ]
     },
     "execution_count": 68,
     "metadata": {},
     "output_type": "execute_result"
    }
   ],
   "source": [
    "a3"
   ]
  },
  {
   "cell_type": "code",
   "execution_count": 69,
   "id": "5dda8593-3e91-404b-b463-1e1297674f5e",
   "metadata": {},
   "outputs": [
    {
     "data": {
      "text/plain": [
       "np.int64(14)"
      ]
     },
     "execution_count": 69,
     "metadata": {},
     "output_type": "execute_result"
    }
   ],
   "source": [
    "# ZAD: Dostań się do liczby 14 z macierzy 'a3'\n",
    "a3[1][1][1]"
   ]
  },
  {
   "cell_type": "markdown",
   "id": "3bb1defd-f587-41a2-b9cf-aab47bb988ac",
   "metadata": {},
   "source": [
    "- na macierzach NumPy możliwe jest wykorzystywanie list slicingu,\n",
    "- w ogólnym rozrachunku działa on całkiem podobnie w porównaniu do 'czystego' pythona. Jednak 'czysty' python nie umożliwia list slicingu na wielu wymiarach, a NumPy tak. Działa on bardzo intuicyjnie, a przy jego obsłudze pomaga pole 'shape' - zobrazowanie wymiarów,  "
   ]
  },
  {
   "cell_type": "code",
   "execution_count": 70,
   "id": "a7875ef9-f979-4c03-99a0-861617d78cee",
   "metadata": {},
   "outputs": [
    {
     "data": {
      "text/plain": [
       "(2, 3, 3)"
      ]
     },
     "execution_count": 70,
     "metadata": {},
     "output_type": "execute_result"
    }
   ],
   "source": [
    "a3.shape"
   ]
  },
  {
   "cell_type": "code",
   "execution_count": 71,
   "id": "8f3441d4-69ee-46ef-a544-218254dc01ad",
   "metadata": {},
   "outputs": [
    {
     "data": {
      "text/plain": [
       "array([[[ 1],\n",
       "        [ 4],\n",
       "        [ 7]],\n",
       "\n",
       "       [[10],\n",
       "        [13],\n",
       "        [16]]])"
      ]
     },
     "execution_count": 71,
     "metadata": {},
     "output_type": "execute_result"
    }
   ],
   "source": [
    "# ZAD: Dostań się do wszystkich liczb na pozycji '0' w najbardziej wewnętrznym wierszu macierzy\n",
    "a3[:, :, :1] # [jeden wymiar skopiowany, drugi wymiar skopiowany, konkretne elementy wewnętrznej listy]"
   ]
  },
  {
   "cell_type": "markdown",
   "id": "839f530a-e005-4355-a1b1-c6e84d63521a",
   "metadata": {},
   "source": [
    "# Operacje na macierzach\n",
    "- ma macierzach Numpy można praktycznie wykonywać wszystkie operacje matematyczne jakie są dostępne w pythonie, np. dodawanie, odejmowanie, mnożenie, dzielenie, czy '//', '**', itd.,\n",
    "- operacje są wykonywanie w oparciu o model 'element-wise', czyli 'element po elemencie',\n",
    "- operacje te są możliwe do wykonania w przypadku kiedy:\n",
    "  * !!! wtedy, kiedy zasady broadcastu są spełnione i tyle, to co niżej, to tak wisz !!!\n",
    "  * dwie macierze mają taki sam rozmiar,\n",
    "  * jedna z macierzy jest macierzą składającą się z jednego wiersza, oraz liczba kolumn w obu macierzach jest jednakowa,\n",
    "- kolejność macierzy, na których wykonywane są operacje jest znacząca - może dawać inne efekty zależne od konfiguracji - przypadek mnożenia,  \n",
    "- mimo że wspomniane wyżej operacje można wykonywać za pomocą operatorów pythonowych, wskazane jest, aby zamiast nich wykorzystywać wbudowane w NumPy funkcje - zwiększenie wydajności, "
   ]
  },
  {
   "cell_type": "code",
   "execution_count": 72,
   "id": "91667b81-4c95-441a-8a7d-3061331df27d",
   "metadata": {},
   "outputs": [
    {
     "data": {
      "text/plain": [
       "array([[1, 2, 3]])"
      ]
     },
     "execution_count": 72,
     "metadata": {},
     "output_type": "execute_result"
    }
   ],
   "source": [
    "a1 "
   ]
  },
  {
   "cell_type": "code",
   "execution_count": 73,
   "id": "f81c2681-8f37-4022-9945-458d333b8116",
   "metadata": {},
   "outputs": [
    {
     "data": {
      "text/plain": [
       "array([[1., 1., 1.],\n",
       "       [1., 1., 1.]])"
      ]
     },
     "execution_count": 73,
     "metadata": {},
     "output_type": "execute_result"
    }
   ],
   "source": [
    "ones"
   ]
  },
  {
   "cell_type": "code",
   "execution_count": 74,
   "id": "6623da6e-a87a-4822-bb53-b2ccd7a4723f",
   "metadata": {},
   "outputs": [
    {
     "data": {
      "text/plain": [
       "array([[2., 3., 4.],\n",
       "       [2., 3., 4.]])"
      ]
     },
     "execution_count": 74,
     "metadata": {},
     "output_type": "execute_result"
    }
   ],
   "source": [
    "np.add(a1, ones) # dodawanie"
   ]
  },
  {
   "cell_type": "code",
   "execution_count": 75,
   "id": "15ae46c8-a3c9-4f58-9bc9-70d6bf5b8e24",
   "metadata": {},
   "outputs": [
    {
     "data": {
      "text/plain": [
       "array([[ 2.71828183,  7.3890561 , 20.08553692]])"
      ]
     },
     "execution_count": 75,
     "metadata": {},
     "output_type": "execute_result"
    }
   ],
   "source": [
    "np.exp(a1) # literka 'e' podniesiona do potęgi"
   ]
  },
  {
   "cell_type": "code",
   "execution_count": 76,
   "id": "c58209a9-8db0-43d8-b44b-3613ed0ffb22",
   "metadata": {},
   "outputs": [
    {
     "data": {
      "text/plain": [
       "array([[0.        , 0.69314718, 1.09861229]])"
      ]
     },
     "execution_count": 76,
     "metadata": {},
     "output_type": "execute_result"
    }
   ],
   "source": [
    "np.log(a1) # logarytm"
   ]
  },
  {
   "cell_type": "markdown",
   "id": "2d2b0beb-bf70-484a-8b8c-2e76b28e8508",
   "metadata": {},
   "source": [
    "# Funkcje agregujące\n",
    "- są to funkcje, które wykorzystują wszystkie elementy danej struktury w jakiejś operacji i następnie zwracają tylko jedną wartość, "
   ]
  },
  {
   "cell_type": "code",
   "execution_count": 77,
   "id": "c4df3008-9b31-4c41-8b38-ef4911f1f3c0",
   "metadata": {},
   "outputs": [
    {
     "data": {
      "text/plain": [
       "array([[1. , 2. , 3.3],\n",
       "       [4. , 5. , 6.5]])"
      ]
     },
     "execution_count": 77,
     "metadata": {},
     "output_type": "execute_result"
    }
   ],
   "source": [
    "a2"
   ]
  },
  {
   "cell_type": "code",
   "execution_count": 78,
   "id": "18837131-e780-4dcd-9b1f-8f10ef3c86b0",
   "metadata": {},
   "outputs": [
    {
     "data": {
      "text/plain": [
       "np.float64(3.6333333333333333)"
      ]
     },
     "execution_count": 78,
     "metadata": {},
     "output_type": "execute_result"
    }
   ],
   "source": [
    "np.mean(a2)"
   ]
  },
  {
   "cell_type": "code",
   "execution_count": 79,
   "id": "a7e38d0a-0798-4b1b-9c61-ed338811ed48",
   "metadata": {},
   "outputs": [
    {
     "data": {
      "text/plain": [
       "np.float64(6.5)"
      ]
     },
     "execution_count": 79,
     "metadata": {},
     "output_type": "execute_result"
    }
   ],
   "source": [
    "np.max(a2)"
   ]
  },
  {
   "cell_type": "code",
   "execution_count": 80,
   "id": "144b8ec0-f2ff-4a1d-b33b-1da8cb9c7242",
   "metadata": {},
   "outputs": [
    {
     "data": {
      "text/plain": [
       "np.float64(1.0)"
      ]
     },
     "execution_count": 80,
     "metadata": {},
     "output_type": "execute_result"
    }
   ],
   "source": [
    "np.min(a2)"
   ]
  },
  {
   "cell_type": "code",
   "execution_count": 81,
   "id": "050ab0be-1ab8-4ebd-81d0-a360405ec8bb",
   "metadata": {},
   "outputs": [
    {
     "data": {
      "text/plain": [
       "np.float64(21.8)"
      ]
     },
     "execution_count": 81,
     "metadata": {},
     "output_type": "execute_result"
    }
   ],
   "source": [
    "np.sum(a2)"
   ]
  },
  {
   "cell_type": "markdown",
   "id": "e90ed201-c106-4916-916f-de92284e4c1d",
   "metadata": {},
   "source": [
    "# Wariancja oraz Odchylenie Standardowe (do zr)\n",
    "- generalnie obie te rzeczy są bardzo łatwe matematycznie, ale teraz tutaj nie będę tego rozpisywał. Można zapytać chata i on elegancko wszystko wytłumaczy, jak zajdzie taka potrzeba. Teraz zostawiam to trochę niedokończone,\n",
    "- link zostawiony przez Daniela, aby sobie zobaczyć jak to działa matematycznie, ale ja wiem jak to działa matematycznie i tak: https://www.mathsisfun.com/data/standard-deviation.html,"
   ]
  },
  {
   "cell_type": "code",
   "execution_count": 82,
   "id": "4aa92890-6331-4d25-948d-88cacb276406",
   "metadata": {},
   "outputs": [],
   "source": [
    "var_array = np.array([2, 4, 6, 8, 10])"
   ]
  },
  {
   "cell_type": "code",
   "execution_count": 83,
   "id": "b0979f33-15aa-4bf4-886c-8f7558b7e079",
   "metadata": {},
   "outputs": [
    {
     "data": {
      "text/plain": [
       "np.float64(8.0)"
      ]
     },
     "execution_count": 83,
     "metadata": {},
     "output_type": "execute_result"
    }
   ],
   "source": [
    "np.var(var_array) # wariancja"
   ]
  },
  {
   "cell_type": "code",
   "execution_count": 84,
   "id": "20e8632e-dfac-4487-a849-bbdbedbc47e1",
   "metadata": {},
   "outputs": [
    {
     "data": {
      "text/plain": [
       "np.float64(2.8284271247461903)"
      ]
     },
     "execution_count": 84,
     "metadata": {},
     "output_type": "execute_result"
    }
   ],
   "source": [
    "np.std(var_array) # odchylenie standardowe"
   ]
  },
  {
   "cell_type": "markdown",
   "id": "5241b4aa-fe5e-4056-b093-cb0aa9f54fb0",
   "metadata": {},
   "source": [
    "# Zmiana Kształtu oraz Transpozycja"
   ]
  },
  {
   "cell_type": "markdown",
   "id": "23e0ae27-8ec9-434a-b456-cb6346f278ca",
   "metadata": {},
   "source": [
    "## Broadcast w NumPy \n",
    "- broadcast w numpy odnosi się do możliwość wykonywania operacji między macierzami ze względu na ich wymiary - 'shape'\n",
    "- macierze NumPy porównują między sobą wymiary zaczynająć od prawej strony:\n",
    "  * jeżeli macierze NIE są tego samego wymiaru, to brakujące wymiary są uzupełniane 'niewidzialnymi jedynkami',\n",
    "  * jeżeli odpowiadające wymiary się zgadzają (czyli ich wartości są identyczne) w jednej i drugiej macierzy to okey,\n",
    "  * jeżeli jeden z porównywanych wymiarów ma wartość 1, to też wszystko jest okey,\n",
    "- przykład z dokumentacji:\n",
    "  <pre>\n",
    "  A (4d array):       8 x 7 x 6 x 1  \n",
    "  B (3d array):           7 x 1 x 5\n",
    "  RESULT (4d array):  8 x 7 x 6 x 5 \n",
    "  </pre>\n",
    "  * pierwsze 2 wymiary od prawej się zgadzają, bo zawsze jeden z nich to 1, więc wszystko okey,\n",
    "  * trzeci wymiar od prawej jest identyczny w jednym, jak i drugim przypadku, więc wszystko okey,\n",
    "  * a tam gdzie nie ma jednego wymiaru (B) postawiona jest niewidzialna jedynka, więc też wszystko jest okey,\n",
    "- dodatkowo macierz NumPy może być swobodnie przemnażana przez:\n",
    "  * skalar,\n",
    "  * macież składającą się z jednego wiersza, który jest jednoelementowy - [[94]], "
   ]
  },
  {
   "cell_type": "code",
   "execution_count": 85,
   "id": "f089d04a-8b0f-4798-aa0c-a15dffbd0031",
   "metadata": {},
   "outputs": [
    {
     "data": {
      "text/plain": [
       "((2, 3), (2, 3, 3))"
      ]
     },
     "execution_count": 85,
     "metadata": {},
     "output_type": "execute_result"
    }
   ],
   "source": [
    "a2.shape, a3.shape # odpowiadające wymiary się nie zgadzają oraz jedynki nie pomogą - BROADCAST TUTAJ NIE DZIAŁA \n",
    "# a2 * a3 # wywali błąd"
   ]
  },
  {
   "cell_type": "markdown",
   "id": "b86930ed-5c2f-4d32-a6af-f6545eacb4c4",
   "metadata": {},
   "source": [
    "## Zmiana kształtu macierzy\n",
    "- zmiana kształtu macierzy jest możliwa do wykonania dopóki iloczym wymiarów w starej macierzy, jak i nowej jest jednakowy: \n",
    "  macierz o wymiarach (2, 3, 2) -> 2 * 3 * 2 = 12 można zamienić na  \n",
    "  macierz o wymiarach (1, 1, 4, 1, 3) -> bo 1 * 1 * 4 * 1 * 3 = 12, więc wszystko się zgadza"
   ]
  },
  {
   "cell_type": "code",
   "execution_count": 86,
   "id": "dfddd00b-6653-4d40-ade3-035e4a7b8e8d",
   "metadata": {},
   "outputs": [
    {
     "data": {
      "text/plain": [
       "(2, 3)"
      ]
     },
     "execution_count": 86,
     "metadata": {},
     "output_type": "execute_result"
    }
   ],
   "source": [
    "a2.shape"
   ]
  },
  {
   "cell_type": "code",
   "execution_count": 87,
   "id": "642aa8b2-7dd6-4cb0-a9e3-99f891fd672b",
   "metadata": {},
   "outputs": [
    {
     "data": {
      "text/plain": [
       "array([[[1. ],\n",
       "        [2. ],\n",
       "        [3.3]],\n",
       "\n",
       "       [[4. ],\n",
       "        [5. ],\n",
       "        [6.5]]])"
      ]
     },
     "execution_count": 87,
     "metadata": {},
     "output_type": "execute_result"
    }
   ],
   "source": [
    "a2_reshape = a2.reshape(2, 3, 1)\n",
    "a2_reshape"
   ]
  },
  {
   "cell_type": "code",
   "execution_count": 88,
   "id": "d8d7aa30-78a7-4b71-b8a5-db2a45415851",
   "metadata": {},
   "outputs": [
    {
     "data": {
      "text/plain": [
       "((2, 3), (2, 3, 1))"
      ]
     },
     "execution_count": 88,
     "metadata": {},
     "output_type": "execute_result"
    }
   ],
   "source": [
    "a2.shape, a2_reshape.shape # iloczyn wymiarów w obu przypadkach jest równy 6"
   ]
  },
  {
   "cell_type": "markdown",
   "id": "a0397024-c4b9-4dc8-b4ee-ec16ac55407b",
   "metadata": {},
   "source": [
    "## Transpozycja macierzy\n",
    "- najprościej mówiąc jest to zamiana wierszy z kolumnami w macierzy, np.\n",
    "![](transpozycja.png)"
   ]
  },
  {
   "cell_type": "code",
   "execution_count": 89,
   "id": "e686fbcb-b4b2-4104-944f-496704e06e00",
   "metadata": {},
   "outputs": [
    {
     "data": {
      "text/plain": [
       "((2, 3), (3, 2))"
      ]
     },
     "execution_count": 89,
     "metadata": {},
     "output_type": "execute_result"
    }
   ],
   "source": [
    "a2.shape, a2.T.shape # (2, 3) -> (3, 2)"
   ]
  },
  {
   "cell_type": "markdown",
   "id": "4a45b601-bd4d-4813-b9f0-ea7e221afc57",
   "metadata": {},
   "source": [
    "## 'Sklejenie' dwóch macierzy\n",
    "- takie jakby postawienie ich obok siebie 'po osi kolumn'"
   ]
  },
  {
   "cell_type": "code",
   "execution_count": 90,
   "id": "6b55ed10-af44-4d92-9410-77be66776652",
   "metadata": {},
   "outputs": [
    {
     "data": {
      "text/plain": [
       "array([['a', 'b', 'aaa', 'bbb'],\n",
       "       ['c', 'dd', 'ccc', 'ddd']], dtype='<U3')"
      ]
     },
     "execution_count": 90,
     "metadata": {},
     "output_type": "execute_result"
    }
   ],
   "source": [
    "A = np.array([['a', 'b'],\n",
    "              ['c', 'dd']])\n",
    "\n",
    "B = np.array([['aaa', 'bbb'],\n",
    "              ['ccc', 'ddd']])\n",
    "\n",
    "C = np.concatenate((A, B), axis=1)\n",
    "C"
   ]
  },
  {
   "cell_type": "markdown",
   "id": "0130512e-1e8b-4f96-b11e-99503b02c16b",
   "metadata": {},
   "source": [
    "# Dot product\n",
    "- jest to zwykłe przemnażanie macierzy zgodne z zasadami algebry liniowej,\n",
    "- stanowi to przeciwieństwo 'element-wise'\n",
    "- warunek możliwości przemnożenia dwóch macierzy:  \n",
    "  liczba kolumn pierwszej macierzy musi być równa liczbie wierszy drugiej macierzy: (5, 3) * (3, 5) = (5, 5)"
   ]
  },
  {
   "cell_type": "code",
   "execution_count": 91,
   "id": "d1f20e72-7f48-4bcb-8fa0-79b52c07b8af",
   "metadata": {},
   "outputs": [],
   "source": [
    "np.random.seed(0)\n",
    "mat1 = np.random.randint(10, size=(5, 3))\n",
    "mat2 = mat1.T"
   ]
  },
  {
   "cell_type": "code",
   "execution_count": 92,
   "id": "780cfdfa-ffff-4e6a-9d90-ce3953e27249",
   "metadata": {},
   "outputs": [
    {
     "data": {
      "text/plain": [
       "((5, 3), (3, 5))"
      ]
     },
     "execution_count": 92,
     "metadata": {},
     "output_type": "execute_result"
    }
   ],
   "source": [
    "mat1.shape, mat2.shape"
   ]
  },
  {
   "cell_type": "code",
   "execution_count": 93,
   "id": "936b5d35-5d52-4566-b336-b81b02655463",
   "metadata": {},
   "outputs": [
    {
     "data": {
      "text/plain": [
       "array([[ 34,  42,  21,  38,  43],\n",
       "       [ 42, 139,  62, 115,  89],\n",
       "       [ 21,  62,  38,  59,  66],\n",
       "       [ 38, 115,  59, 101,  94],\n",
       "       [ 43,  89,  66,  94, 129]], dtype=int32)"
      ]
     },
     "execution_count": 93,
     "metadata": {},
     "output_type": "execute_result"
    }
   ],
   "source": [
    "mat3 = np.dot(mat1, mat2)\n",
    "mat3"
   ]
  },
  {
   "cell_type": "markdown",
   "id": "12795c3e-2b19-483a-bc53-f733c853992d",
   "metadata": {},
   "source": [
    "# Operatory porównywania\n",
    "- Numpy wykorzystuje takie same operatory porównywania jak 'czysty' python,\n",
    "- porównywane są ze sobą wszystkie elementy porównywanych macierzy,\n",
    "- macierz może być również porównywana ze skalarem, "
   ]
  },
  {
   "cell_type": "code",
   "execution_count": 94,
   "id": "7af63179-851f-43ea-a26a-ffdca4db4590",
   "metadata": {},
   "outputs": [
    {
     "data": {
      "text/plain": [
       "array([[1, 2, 3]])"
      ]
     },
     "execution_count": 94,
     "metadata": {},
     "output_type": "execute_result"
    }
   ],
   "source": [
    "a1"
   ]
  },
  {
   "cell_type": "code",
   "execution_count": 95,
   "id": "2e7204bc-cf46-49ac-9790-a151cc96454c",
   "metadata": {},
   "outputs": [
    {
     "data": {
      "text/plain": [
       "array([[1. , 2. , 3.3],\n",
       "       [4. , 5. , 6.5]])"
      ]
     },
     "execution_count": 95,
     "metadata": {},
     "output_type": "execute_result"
    }
   ],
   "source": [
    "a2"
   ]
  },
  {
   "cell_type": "code",
   "execution_count": 96,
   "id": "281ad4d6-ca5f-4a4c-a12c-f01568be80fd",
   "metadata": {},
   "outputs": [
    {
     "data": {
      "text/plain": [
       "array([[False, False,  True],\n",
       "       [ True,  True,  True]])"
      ]
     },
     "execution_count": 96,
     "metadata": {},
     "output_type": "execute_result"
    }
   ],
   "source": [
    "a1 < a2"
   ]
  },
  {
   "cell_type": "markdown",
   "id": "23816038-b726-4e05-9b75-b87dec55dad2",
   "metadata": {},
   "source": [
    "# Sortowanie elementów macierzy (do zr)\n",
    "- nie wydaje się to być specjalnie przydatne"
   ]
  },
  {
   "cell_type": "markdown",
   "id": "5faf9cf0-00ef-4045-af66-1cae83ff5a4f",
   "metadata": {},
   "source": [
    "# Zamiana obrazków na macierze"
   ]
  },
  {
   "cell_type": "markdown",
   "id": "a5bdcd72-33c4-4bca-99ae-6531c686f8ca",
   "metadata": {},
   "source": [
    "<img src='images/panda.png'/>"
   ]
  },
  {
   "cell_type": "code",
   "execution_count": 97,
   "id": "f9846aff-8f97-40c9-abe8-86258f69e614",
   "metadata": {},
   "outputs": [],
   "source": [
    "from matplotlib.image import imread"
   ]
  },
  {
   "cell_type": "code",
   "execution_count": 98,
   "id": "74040603-9925-4319-bae2-8c0e3ef7079c",
   "metadata": {},
   "outputs": [
    {
     "data": {
      "text/plain": [
       "numpy.ndarray"
      ]
     },
     "execution_count": 98,
     "metadata": {},
     "output_type": "execute_result"
    }
   ],
   "source": [
    "panda = imread('images/panda.png')\n",
    "type(panda)"
   ]
  },
  {
   "cell_type": "code",
   "execution_count": 99,
   "id": "bd8a61ff-b577-40b6-aa0b-d4e47963c59e",
   "metadata": {},
   "outputs": [
    {
     "data": {
      "text/plain": [
       "(24465000, (2330, 3500, 3), 3)"
      ]
     },
     "execution_count": 99,
     "metadata": {},
     "output_type": "execute_result"
    }
   ],
   "source": [
    "panda.size, panda.shape, panda.ndim"
   ]
  },
  {
   "cell_type": "code",
   "execution_count": 100,
   "id": "ff30549b-6686-419e-814b-864f5d6303e2",
   "metadata": {},
   "outputs": [
    {
     "data": {
      "text/plain": [
       "array([[[0.05490196, 0.10588235, 0.06666667],\n",
       "        [0.05490196, 0.10588235, 0.06666667],\n",
       "        [0.05490196, 0.10588235, 0.06666667],\n",
       "        ...,\n",
       "        [0.16470589, 0.12941177, 0.09411765],\n",
       "        [0.16470589, 0.12941177, 0.09411765],\n",
       "        [0.16470589, 0.12941177, 0.09411765]],\n",
       "\n",
       "       [[0.05490196, 0.10588235, 0.06666667],\n",
       "        [0.05490196, 0.10588235, 0.06666667],\n",
       "        [0.05490196, 0.10588235, 0.06666667],\n",
       "        ...,\n",
       "        [0.16470589, 0.12941177, 0.09411765],\n",
       "        [0.16470589, 0.12941177, 0.09411765],\n",
       "        [0.16470589, 0.12941177, 0.09411765]],\n",
       "\n",
       "       [[0.05490196, 0.10588235, 0.06666667],\n",
       "        [0.05490196, 0.10588235, 0.06666667],\n",
       "        [0.05490196, 0.10588235, 0.06666667],\n",
       "        ...,\n",
       "        [0.16470589, 0.12941177, 0.09411765],\n",
       "        [0.16470589, 0.12941177, 0.09411765],\n",
       "        [0.16470589, 0.12941177, 0.09411765]],\n",
       "\n",
       "       ...,\n",
       "\n",
       "       [[0.13333334, 0.07450981, 0.05490196],\n",
       "        [0.12156863, 0.0627451 , 0.04313726],\n",
       "        [0.10980392, 0.05098039, 0.03137255],\n",
       "        ...,\n",
       "        [0.02745098, 0.02745098, 0.03529412],\n",
       "        [0.02745098, 0.02745098, 0.03529412],\n",
       "        [0.02745098, 0.02745098, 0.03529412]],\n",
       "\n",
       "       [[0.13333334, 0.07450981, 0.05490196],\n",
       "        [0.12156863, 0.0627451 , 0.04313726],\n",
       "        [0.12156863, 0.0627451 , 0.04313726],\n",
       "        ...,\n",
       "        [0.02352941, 0.02352941, 0.03137255],\n",
       "        [0.02352941, 0.02352941, 0.03137255],\n",
       "        [0.02352941, 0.02352941, 0.03137255]],\n",
       "\n",
       "       [[0.13333334, 0.07450981, 0.05490196],\n",
       "        [0.12156863, 0.0627451 , 0.04313726],\n",
       "        [0.12156863, 0.0627451 , 0.04313726],\n",
       "        ...,\n",
       "        [0.02352941, 0.02352941, 0.03137255],\n",
       "        [0.02352941, 0.02352941, 0.03137255],\n",
       "        [0.02352941, 0.02352941, 0.03137255]]],\n",
       "      shape=(2330, 3500, 3), dtype=float32)"
      ]
     },
     "execution_count": 100,
     "metadata": {},
     "output_type": "execute_result"
    }
   ],
   "source": [
    "panda"
   ]
  },
  {
   "cell_type": "code",
   "execution_count": null,
   "id": "21ca593f-e3f5-4dfd-b0cd-d2035dedacfb",
   "metadata": {},
   "outputs": [],
   "source": []
  },
  {
   "cell_type": "code",
   "execution_count": null,
   "id": "17d9a7ac-eaa7-49ba-84eb-0e41e3ea48fb",
   "metadata": {},
   "outputs": [],
   "source": []
  },
  {
   "cell_type": "code",
   "execution_count": null,
   "id": "970764d3-1c4c-4fdc-987e-70be783c6248",
   "metadata": {},
   "outputs": [],
   "source": []
  }
 ],
 "metadata": {
  "kernelspec": {
   "display_name": "Python 3.10 (venv)",
   "language": "python",
   "name": "python310"
  },
  "language_info": {
   "codemirror_mode": {
    "name": "ipython",
    "version": 3
   },
   "file_extension": ".py",
   "mimetype": "text/x-python",
   "name": "python",
   "nbconvert_exporter": "python",
   "pygments_lexer": "ipython3",
   "version": "3.10.11"
  }
 },
 "nbformat": 4,
 "nbformat_minor": 5
}
